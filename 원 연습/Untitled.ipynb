{
 "cells": [
  {
   "cell_type": "code",
   "execution_count": 4,
   "id": "070944fd",
   "metadata": {},
   "outputs": [],
   "source": [
    "from bs4 import BeautifulSoup as bs\n",
    "from selenium import webdriver\n",
    "import pandas as pd\n",
    "import time\n",
    "from selenium.webdriver.common.keys import Keys\n",
    "import re\n",
    "import requests\n",
    "from datetime import date, timedelta\n",
    "keys=Keys()"
   ]
  },
  {
   "cell_type": "code",
   "execution_count": 13,
   "id": "2ce3c6c4",
   "metadata": {},
   "outputs": [
    {
     "data": {
      "text/plain": [
       "[]"
      ]
     },
     "execution_count": 13,
     "metadata": {},
     "output_type": "execute_result"
    }
   ],
   "source": [
    "html = requests.get('https://www.genie.co.kr/chart/top200?ditc=D&ymd=20220818&hh=19&rtm=N&pg=1')\n",
    "time.sleep(3)\n",
    "soup = bs(html.text,'html.parser')\n",
    "title_tag = soup.find_all('a', class_='title ellipsis')\n",
    "title_tag"
   ]
  },
  {
   "cell_type": "code",
   "execution_count": 17,
   "id": "e7415c75",
   "metadata": {},
   "outputs": [
    {
     "data": {
      "text/plain": [
       "'<br>\\r\\n<br>\\r\\n<center>\\r\\n<img src=\"http://www.geniemusic.co.kr/images/common/logo_r1.png\"><br>\\r\\n<h2> <meta http-equiv=\"Content-Type\" content=\"text/html;charset=UTF-8\"> ì\\xa0\\x91ì\\x86\\x8dì\\x9a\\x94ì²\\xadì\\x9d´ ë³´ì\\x95\\x88ì\\xa0\\x95ì±\\x85ì\\x97\\x90 ì\\x9d\\x98í\\x95´ ì°¨ë\\x8b¨ë\\x90\\x98ì\\x97\\x88ì\\x8aµë\\x8b\\x88ë\\x8b¤. ë\\x8b¹ì\\x82¬ ê³\\xa0ê°\\x9dì\\x84¼í\\x84°ë¡\\x9c ë¬¸ì\\x9d\\x98í\\x95´ì£¼ì\\x8b\\xadì\\x8b\\x9cì\\x98¤.<br><br>\\r\\nThe security policy of the connection request is blocked. Contact your customer service representative.<br><br>\\r\\nì§\\x80ë\\x8b\\x88ë®¤ì§\\x81 ê³\\xa0ê°\\x9dì\\x84¼í\\x84° 1577-5337<br><br>\\r\\n</h2>\\r\\n</center>\\r\\n<br>'"
      ]
     },
     "execution_count": 17,
     "metadata": {},
     "output_type": "execute_result"
    }
   ],
   "source": [
    "html.text"
   ]
  },
  {
   "cell_type": "code",
   "execution_count": 33,
   "id": "c1dd5336",
   "metadata": {},
   "outputs": [],
   "source": [
    "driver = webdriver.Chrome(\"C:/py_data/chromedriver.exe\")\n",
    "driver.get('https://www.genie.co.kr/chart/top200?ditc=D&ymd=20220818&hh=19&rtm=N&pg=1')\n",
    "time.sleep(3)\n",
    "html = driver.page_source\n",
    "soup = bs(html,'html.parser')\n",
    "title_tag = soup.find_all('a', class_='title ellipsis')\n",
    "artist_tag = soup.find_all('a', class_='artist ellipsis')\n"
   ]
  },
  {
   "cell_type": "code",
   "execution_count": 35,
   "id": "d43e42b9",
   "metadata": {},
   "outputs": [
    {
     "data": {
      "text/plain": [
       "[['Attention', 'NewJeans'],\n",
       " ['그때 그 순간 그대로 (그그그)', 'WSG워너비 (가야G)'],\n",
       " ['Hype boy', 'NewJeans'],\n",
       " ['잠수이별 (Prod by 코드 쿤스트)', '우원재 (Woo)  meenoi (미노이)'],\n",
       " ['LOVE DIVE', 'IVE (아이브)'],\n",
       " ['보고싶었어', 'WSG워너비 (4FIRE)'],\n",
       " ['SNEAKERS', 'ITZY (있지)'],\n",
       " ['TOMBOY', '(여자)아이들'],\n",
       " ['FOREVER 1', '소녀시대 (GIRLS GENERATION)'],\n",
       " ['That That (Prod  Feat SUGA of BTS)', '싸이 (Psy)'],\n",
       " ['POP', '나연 (TWICE)'],\n",
       " ['나의 X에게', '경서'],\n",
       " ['사랑인가 봐', '멜로망스 (MeloMance)'],\n",
       " ['정이라고 하자 (Feat 10CM)', 'BIG Naughty (서동현)'],\n",
       " ['Cookie', 'NewJeans'],\n",
       " ['그라데이션', '10CM'],\n",
       " ['도깨비불 (Illusion)', 'aespa'],\n",
       " ['Love story', '볼빨간사춘기'],\n",
       " ['LOVE me', 'BEO (비오)'],\n",
       " ['내가 아니라도', '주호'],\n",
       " ['취중고백', '김민석 (멜로망스)'],\n",
       " ['사랑은 늘 도망가', '임영웅'],\n",
       " ['다정히 내 이름을 부르면', '경서예지  전건호'],\n",
       " ['봄여름가을겨울 (Still Life)', 'BIGBANG (빅뱅)'],\n",
       " ['Thats Hilarious', 'Charlie Puth'],\n",
       " ['ELEVEN', 'IVE (아이브)'],\n",
       " ['Girls', 'aespa'],\n",
       " ['신호등', '이무진'],\n",
       " ['FEARLESS', 'LE SSERAFIM (르세라핌)'],\n",
       " ['해요 (2022)', '안녕'],\n",
       " ['Stay', 'The Kid LAROI  Justin Bieber'],\n",
       " ['바보에게 바보가 (웹툰 연애의 발견 X 이석훈)', '이석훈'],\n",
       " ['열이올라요 (Heart Burn)', '선미'],\n",
       " ['MY BAG', '(여자)아이들'],\n",
       " ['Clink Clink (클링 클링)', 'WSG워너비 (오아시소)'],\n",
       " ['내 기쁨은 너가 벤틀리를 끄는 거야', '김승민'],\n",
       " ['Feel My Rhythm', 'Red Velvet (레드벨벳)'],\n",
       " ['팡파레', '다비치'],\n",
       " ['듣고 싶을까', 'MSG워너비 (MOM)'],\n",
       " ['우리들의 블루스', '임영웅'],\n",
       " ['너의 모든 순간', '성시경'],\n",
       " ['GANADARA (Feat 아이유)', '박재범'],\n",
       " ['Next Level', 'aespa'],\n",
       " ['Weekend', '태연 (TAEYEON)'],\n",
       " ['바라만 본다', 'MSG워너비 (MOM)'],\n",
       " ['Bad Habits', 'Ed Sheeran'],\n",
       " ['INVU', '태연 (TAEYEON)'],\n",
       " ['아무래도 난', '주시크 (Joosiq)'],\n",
       " ['밤하늘의 별을 (2020)', '경서'],\n",
       " ['너를 생각해', '주시크 (Joosiq)']]"
      ]
     },
     "execution_count": 35,
     "metadata": {},
     "output_type": "execute_result"
    }
   ],
   "source": [
    "title_lst = []\n",
    "for i in range(len(title_tag)):\n",
    "    tag = title_tag[i].text\n",
    "    tag = re.sub('[^ㄱ-ㅣ가-힣a-zA-Z0-9() ]',\"\",tag).strip()\n",
    "    art = artist_tag[i].text\n",
    "    art = re.sub('[^ㄱ-ㅣ가-힣a-zA-Z0-9() ]',\"\",art).strip()\n",
    "    title_lst.append([tag,art])\n",
    "    \n",
    "title_lst"
   ]
  },
  {
   "cell_type": "code",
   "execution_count": 39,
   "id": "033136c6",
   "metadata": {},
   "outputs": [
    {
     "name": "stdout",
     "output_type": "stream",
     "text": [
      "기준 년도를 입력하세요(예:2020):2022\n",
      "기준 월을 입력하세요(예:7):8\n",
      "기준 일을 입력하세요(예:7):18\n",
      "기간을 입력하시오:10\n"
     ]
    }
   ],
   "source": [
    "from bs4 import BeautifulSoup as bs\n",
    "from selenium import webdriver\n",
    "import pandas as pd\n",
    "import time\n",
    "from selenium.webdriver.common.keys import Keys\n",
    "import re\n",
    "import requests\n",
    "from datetime import date, timedelta\n",
    "keys=Keys()\n",
    "\n",
    "driver = webdriver.Chrome(\"C:/py_data/chromedriver.exe\")\n",
    "YY = int(input(\"기준 년도를 입력하세요(예:2020):\"))\n",
    "mm = int(input(\"기준 월을 입력하세요(예:7):\"))\n",
    "dd = int(input(\"기준 일을 입력하세요(예:7):\"))\n",
    "period = int(input(\"기간을 입력하시오:\"))\n",
    "start_date = date(YY,mm,dd)\n",
    "timegap = timedelta(days=period)\n",
    "start_date = start_date - timegap\n",
    "start_date = start_date.strftime('%Y-%m-%d')\n",
    "range_date = pd.date_range(start_date, periods=period, freq='D')\n",
    "\n",
    "day_dict = {}\n",
    "title_lst = []\n",
    "for today in range_date:\n",
    "    main_url = 'https://www.genie.co.kr/chart/top200?ditc=D&ymd='+today.strftime('%Y%m%d')+'&hh=19&rtm=N&pg='\n",
    "    for i in range(1,5):\n",
    "        driver.get(main_url+str(i))\n",
    "        time.sleep(3)\n",
    "        html = driver.page_source\n",
    "        soup = bs(html,'html.parser')\n",
    "        title_tag = soup.find_all('a', class_='title ellipsis')\n",
    "        artist_tag = soup.find_all('a', class_='artist ellipsis')\n",
    "        for i in range(len(title_tag)):\n",
    "            tag = title_tag[i].text\n",
    "            tag = re.sub('[^ㄱ-ㅣ가-힣a-zA-Z0-9() ]',\"\",tag).strip()           \n",
    "            art = artist_tag[i].text\n",
    "            art = re.sub('[^ㄱ-ㅣ가-힣a-zA-Z0-9() ]',\"\",art).strip()\n",
    "            title_lst.append([tag,art])\n",
    "            day_dict[today.strftime('%Y%m%d')] = title_lst\n",
    "\n",
    "music = pd.DataFrame(day_dict)\n",
    "music.to_csv(\"c:/py_data/차트.csv\", encoding='cp949')"
   ]
  },
  {
   "cell_type": "code",
   "execution_count": null,
   "id": "ecbbd048",
   "metadata": {},
   "outputs": [],
   "source": []
  }
 ],
 "metadata": {
  "kernelspec": {
   "display_name": "Python 3 (ipykernel)",
   "language": "python",
   "name": "python3"
  },
  "language_info": {
   "codemirror_mode": {
    "name": "ipython",
    "version": 3
   },
   "file_extension": ".py",
   "mimetype": "text/x-python",
   "name": "python",
   "nbconvert_exporter": "python",
   "pygments_lexer": "ipython3",
   "version": "3.9.12"
  }
 },
 "nbformat": 4,
 "nbformat_minor": 5
}
