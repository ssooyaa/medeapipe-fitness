{
 "cells": [
  {
   "cell_type": "code",
   "execution_count": 29,
   "id": "e5b5c93f",
   "metadata": {},
   "outputs": [],
   "source": [
    "from selenium import webdriver\n",
    "from bs4 import BeautifulSoup as bs\n",
    "import urllib.request\n",
    "import os\n",
    "from tqdm import tqdm\n",
    "import time"
   ]
  },
  {
   "cell_type": "code",
   "execution_count": 44,
   "id": "bcfea465",
   "metadata": {},
   "outputs": [
    {
     "name": "stdout",
     "output_type": "stream",
     "text": [
      "검색어 입력:사탕\n"
     ]
    }
   ],
   "source": [
    "keyword = input(\"검색어 입력:\")\n",
    "url = 'https://search.naver.com/search.naver?where=image&sm=tab_jum&query=' + keyword\n",
    "driver = webdriver.Chrome('C:\\py_data/chromedriver.exe')\n",
    "driver.get(url)\n",
    "time.sleep(2)"
   ]
  },
  {
   "cell_type": "code",
   "execution_count": 45,
   "id": "e05f890f",
   "metadata": {},
   "outputs": [],
   "source": [
    "for i in range(7):\n",
    "    driver.execute_script(\"window.scrollTo(0,document.body.scrollHeight);\")\n",
    "    time.sleep(2)"
   ]
  },
  {
   "cell_type": "code",
   "execution_count": 46,
   "id": "ba197a09",
   "metadata": {},
   "outputs": [],
   "source": [
    "html_source = driver.page_source\n",
    "soup=bs(html_source,'html.parser')"
   ]
  },
  {
   "cell_type": "code",
   "execution_count": 48,
   "id": "58cf6b05",
   "metadata": {},
   "outputs": [],
   "source": [
    "img_list = soup.find('div',class_='photo_tile _grid').find_all('img')[0]['src']"
   ]
  },
  {
   "cell_type": "code",
   "execution_count": 50,
   "id": "18ecd5d0",
   "metadata": {},
   "outputs": [],
   "source": [
    "img_list = soup.find('div',class_='photo_tile _grid').find_all('img')"
   ]
  },
  {
   "cell_type": "code",
   "execution_count": 53,
   "id": "ccddad48",
   "metadata": {},
   "outputs": [],
   "source": [
    "cnt=0\n",
    "for img_url in img_list:\n",
    "    main_dir = 'c:/py_data/'+fName_dir+'/'+keyword+str(cnt)+'.jpg'\n",
    "    urllib.request.urlretrieve(img_url['src'],main_dir)\n",
    "    cnt += 1"
   ]
  },
  {
   "cell_type": "code",
   "execution_count": 52,
   "id": "fd0687c7",
   "metadata": {},
   "outputs": [],
   "source": [
    "fName_dir='네이버'+keyword+'0'\n",
    "cnt=0\n",
    "\n",
    "while True:\n",
    "    if fName_dir not in fName:\n",
    "        os.makedirs(fDir+fName_dir)\n",
    "        break\n",
    "    cnt+=1\n",
    "    fName_dir=keyword+str(cnt)"
   ]
  },
  {
   "cell_type": "code",
   "execution_count": 9,
   "id": "4f95fe80",
   "metadata": {},
   "outputs": [],
   "source": []
  },
  {
   "cell_type": "code",
   "execution_count": 10,
   "id": "9d368602",
   "metadata": {},
   "outputs": [],
   "source": []
  },
  {
   "cell_type": "code",
   "execution_count": 14,
   "id": "6e670124",
   "metadata": {},
   "outputs": [
    {
     "data": {
      "text/plain": [
       "'https://search.pstatic.net/common/?src=http%3A%2F%2Fblogfiles.naver.net%2FMjAyMjA4MTZfOTAg%2FMDAxNjYwNjYxOTEyMzEy.CzM05OpCI-wczgO_fYSJyBQhMgg67WKYFwffEOm4gGsg.zlMHvAiE0VFTnOCv3F0V2XO3t0S5iZvhfBm305fpIScg.JPEG.bfba_busan%2F117924493.jpg&type=a340'"
      ]
     },
     "execution_count": 14,
     "metadata": {},
     "output_type": "execute_result"
    }
   ],
   "source": []
  },
  {
   "cell_type": "code",
   "execution_count": 15,
   "id": "f80fc3d1",
   "metadata": {},
   "outputs": [
    {
     "data": {
      "text/plain": [
       "('c:/py_data/img_test_naver.jpg', <http.client.HTTPMessage at 0x16e2e2f17c0>)"
      ]
     },
     "execution_count": 15,
     "metadata": {},
     "output_type": "execute_result"
    }
   ],
   "source": []
  },
  {
   "cell_type": "code",
   "execution_count": 16,
   "id": "6745d7f1",
   "metadata": {},
   "outputs": [
    {
     "name": "stdout",
     "output_type": "stream",
     "text": [
      "네이버커피0 로 폴더 생성\n"
     ]
    }
   ],
   "source": []
  },
  {
   "cell_type": "code",
   "execution_count": 18,
   "id": "ddec89ed",
   "metadata": {},
   "outputs": [],
   "source": []
  },
  {
   "cell_type": "code",
   "execution_count": 20,
   "id": "7d9794d2",
   "metadata": {},
   "outputs": [],
   "source": []
  },
  {
   "cell_type": "code",
   "execution_count": 21,
   "id": "3c33caad",
   "metadata": {},
   "outputs": [
    {
     "data": {
      "text/plain": [
       "548"
      ]
     },
     "execution_count": 21,
     "metadata": {},
     "output_type": "execute_result"
    }
   ],
   "source": []
  },
  {
   "cell_type": "code",
   "execution_count": 28,
   "id": "91defc9d",
   "metadata": {},
   "outputs": [
    {
     "data": {
      "text/plain": [
       "548"
      ]
     },
     "execution_count": 28,
     "metadata": {},
     "output_type": "execute_result"
    }
   ],
   "source": []
  },
  {
   "cell_type": "code",
   "execution_count": null,
   "id": "9c3df8da",
   "metadata": {},
   "outputs": [],
   "source": []
  }
 ],
 "metadata": {
  "kernelspec": {
   "display_name": "Python 3 (ipykernel)",
   "language": "python",
   "name": "python3"
  },
  "language_info": {
   "codemirror_mode": {
    "name": "ipython",
    "version": 3
   },
   "file_extension": ".py",
   "mimetype": "text/x-python",
   "name": "python",
   "nbconvert_exporter": "python",
   "pygments_lexer": "ipython3",
   "version": "3.9.12"
  }
 },
 "nbformat": 4,
 "nbformat_minor": 5
}
