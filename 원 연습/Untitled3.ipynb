{
 "cells": [
  {
   "cell_type": "code",
   "execution_count": 1,
   "id": "3ad2b436",
   "metadata": {},
   "outputs": [],
   "source": [
    "from selenium import webdriver\n",
    "from bs4 import BeautifulSoup as bs\n",
    "import urllib.request\n",
    "import os\n",
    "from tqdm import tqdm\n",
    "import time\n",
    "\n",
    "keyword = input(\"검색어 입력:\")\n",
    "url = 'https://search.naver.com/search.naver?where=image&sm=tab_jum&query=' + keyword\n",
    "driver = webdriver.Chrome('C:\\py_data/chromedriver.exe')\n",
    "driver.get(url)\n",
    "time.sleep(2)\n",
    "\n",
    "for i in range(7):\n",
    "    driver.execute_script(\"window.scrollTo(0,document.body.scrollHeight);\")\n",
    "    time.sleep(2)\n",
    "\n",
    "html_source = driver.page_source\n",
    "soup=bs(html_source,'html.parser')\n",
    "\n",
    "fDir = 'c:/py_data/'\n",
    "fName=os.listdir(fDir)\n",
    "\n",
    "fName_dir='네이버'+keyword+'0'\n",
    "cnt=0\n",
    "\n",
    "while True:\n",
    "    if fName_dir not in fName:\n",
    "        os.makedirs(fDir+fName_dir)\n",
    "        break\n",
    "    cnt+=1\n",
    "    fName_dir=keyword+str(cnt)\n",
    "    \n",
    "img_list = soup.find('div',class_='_contentRoot image_wrap').find_all('img')\n",
    "img_list = set(img_list)\n",
    "\n",
    "cft=0\n",
    "for img_url in img_list:\n",
    "    main_dir = 'c:/py_data/'+fName_dir+'/'+keyword+str(cft)+'.jpg'\n",
    "    urllib.request.urlretrieve(img_url['src'],main_dir)\n",
    "    cft += 1\n"
   ]
  },
  {
   "cell_type": "code",
   "execution_count": 2,
   "id": "67e58966",
   "metadata": {},
   "outputs": [
    {
     "name": "stdout",
     "output_type": "stream",
     "text": [
      "검색어 입력:사탕\n"
     ]
    }
   ],
   "source": []
  },
  {
   "cell_type": "code",
   "execution_count": 3,
   "id": "5acc474f",
   "metadata": {},
   "outputs": [
    {
     "name": "stdout",
     "output_type": "stream",
     "text": [
      "Writing naver_img_crawling.py\n"
     ]
    }
   ],
   "source": [
    "\n",
    "\n",
    "from selenium import webdriver\n",
    "from bs4 import BeautifulSoup as bs\n",
    "import urllib.request\n",
    "import os\n",
    "from tqdm import tqdm\n",
    "import time\n",
    "\n",
    "keyword = input(\"검색어 입력:\")\n",
    "url = 'https://search.naver.com/search.naver?where=image&sm=tab_jum&query=' + keyword\n",
    "driver = webdriver.Chrome('C:\\py_data/chromedriver.exe')\n",
    "driver.get(url)\n",
    "time.sleep(2)\n",
    "\n",
    "for i in range(7):\n",
    "    driver.execute_script(\"window.scrollTo(0,document.body.scrollHeight);\")\n",
    "    time.sleep(2)\n",
    "\n",
    "html_source = driver.page_source\n",
    "soup=bs(html_source,'html.parser')\n",
    "time.sleep(1)\n",
    "fDir = 'c:/py_data/'\n",
    "fName=os.listdir(fDir)\n",
    "\n",
    "fName_dir='네이버'+keyword+'0'\n",
    "cnt=0\n",
    "\n",
    "while True:\n",
    "    if fName_dir not in fName:\n",
    "        os.makedirs(fDir+fName_dir)\n",
    "        break\n",
    "    cnt+=1\n",
    "    fName_dir=keyword+str(cnt)\n",
    "    \n",
    "img_list = soup.find('div',class_='photo_tile _grid').find_all('img')\n",
    "img_list = set(img_list)\n",
    "\n",
    "cft=0\n",
    "for img_url in img_list:\n",
    "    main_dir = 'c:/py_data/'+fName_dir+'/'+keyword+str(cft)+'.jpg'\n",
    "    urllib.request.urlretrieve(img_url['src'],main_dir)\n",
    "    cft += 1\n",
    "    \n"
   ]
  },
  {
   "cell_type": "code",
   "execution_count": null,
   "id": "cf40211a",
   "metadata": {},
   "outputs": [],
   "source": [
    "last_height = driver.execute_script(\"return document.body.scrollHeight\")\n",
    "\n",
    "while True:\n",
    "    driver.execute_script(\"window.scrollTo(0, document.body.scrollHeight);\")\n",
    "    time.sleep(2)\n",
    "    new_height = driver.execute_script(\"return document.body.scrollHeight\")\n",
    "    if new_height == last_height:\n",
    "        break\n",
    "    last_height = new_height"
   ]
  }
 ],
 "metadata": {
  "kernelspec": {
   "display_name": "Python 3 (ipykernel)",
   "language": "python",
   "name": "python3"
  },
  "language_info": {
   "codemirror_mode": {
    "name": "ipython",
    "version": 3
   },
   "file_extension": ".py",
   "mimetype": "text/x-python",
   "name": "python",
   "nbconvert_exporter": "python",
   "pygments_lexer": "ipython3",
   "version": "3.9.12"
  }
 },
 "nbformat": 4,
 "nbformat_minor": 5
}
