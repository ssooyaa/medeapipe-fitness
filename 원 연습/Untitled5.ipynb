{
 "cells": [
  {
   "cell_type": "code",
   "execution_count": 8,
   "id": "79ff89b1",
   "metadata": {},
   "outputs": [
    {
     "name": "stdout",
     "output_type": "stream",
     "text": [
      "검색어 입력:강아지\n"
     ]
    },
    {
     "name": "stderr",
     "output_type": "stream",
     "text": [
      "저장중...: 100%|██████████████████████████| 547/547 [00:10<00:00, 51.83it/s]\n"
     ]
    }
   ],
   "source": [
    "from selenium import webdriver\n",
    "from bs4 import BeautifulSoup as bs\n",
    "import urllib.request\n",
    "import os\n",
    "from tqdm import tqdm\n",
    "import time\n",
    "\n",
    "keyword = input(\"검색어 입력:\")\n",
    "url = 'https://search.naver.com/search.naver?where=image&sm=tab_jum&query=' + keyword\n",
    "driver = webdriver.Chrome('C:\\py_data/chromedriver.exe')\n",
    "driver.get(url)\n",
    "time.sleep(2)\n",
    "\n",
    "for i in range(7):\n",
    "    driver.execute_script(\"window.scrollTo(0,document.body.scrollHeight);\")\n",
    "    time.sleep(2)\n",
    "\n",
    "html_source = driver.page_source\n",
    "soup=bs(html_source,'html.parser')\n",
    "time.sleep(2)\n",
    "\n",
    "img_list = soup.find('div',class_='photo_tile _grid').find_all('img')\n",
    "img_list = set(img_list)\n",
    "\n",
    "fDir = 'c:/py_data/'\n",
    "fName=os.listdir(fDir)\n",
    "\n",
    "fName_dir='네이버'+keyword+'0'\n",
    "cnt=0\n",
    "\n",
    "while True:\n",
    "    if fName_dir not in fName:\n",
    "        os.makedirs(fDir+fName_dir)\n",
    "        break\n",
    "    cnt+=1\n",
    "    fName_dir='네이버'+keyword+str(cnt)\n",
    "    \n",
    "\n",
    "cft=0\n",
    "for img_url in tqdm(img_list,desc = '저장중...'):\n",
    "    try:\n",
    "        urllib.request.urlretrieve(img_url['data-src'],'c:/py_data/'+fName_dir+'/'+keyword+str(cnt)+'.jpg')\n",
    "    except:\n",
    "        urllib.request.urlretrieve(img_url['src'],'c:/py_data/'+fName_dir+'/'+keyword+str(cnt)+'.jpg')\n",
    "    cft += 1"
   ]
  },
  {
   "cell_type": "code",
   "execution_count": 4,
   "id": "0c62e303",
   "metadata": {},
   "outputs": [
    {
     "data": {
      "text/plain": [
       "<img alt=\"대형견 우비 :: 루카펫 프로텍트 오버올 강아지우비\" class=\"_image _listImage\" data-org-height=\"453\" data-org-width=\"340\" src=\"https://search.pstatic.net/common/?src=http%3A%2F%2Fblogfiles.naver.net%2FMjAyMjA3MzFfOTEg%2FMDAxNjU5MjU3Mzg1OTQ1.Wg_7GSbHUjM2Oi1mUnpTwCSVVYcW6k75mYA1-fMdzUYg.zn_b01eU7_m_0kFs8jiXZ4jPoM33sc5tmlmLJ_tQw-Mg.JPEG.lakumaison%2FIMG_0374.jpg&amp;type=a340\" style=\"height: 290px; opacity: 1;\"/>"
      ]
     },
     "execution_count": 4,
     "metadata": {},
     "output_type": "execute_result"
    }
   ],
   "source": [
    "soup.find('div',class_='photo_tile _grid').find_all('img')[0]"
   ]
  },
  {
   "cell_type": "code",
   "execution_count": 5,
   "id": "e212802f",
   "metadata": {},
   "outputs": [
    {
     "data": {
      "text/plain": [
       "<img alt=\"수원 강아지 증명사진 사진관 숨에서 찍었어요♡\" class=\"_image _listImage\" data-org-height=\"226\" data-org-width=\"340\" src=\"https://search.pstatic.net/common/?src=http%3A%2F%2Fblogfiles.naver.net%2FMjAyMjA4MjVfNTAg%2FMDAxNjYxNDAyMjgyNTc4.AE09J_6C3vcwuq-oLZkR4n6EAXdwPdjhXJ4aYlrOirog.2OGXgiSDISn6oIJ0BE5qX7IGfg_6uajZiSodhi48-Ygg.JPEG.two-park%2FLovely_day_033_all.jpg&amp;type=a340\" style=\"height: 145px; opacity: 1;\"/>"
      ]
     },
     "execution_count": 5,
     "metadata": {},
     "output_type": "execute_result"
    }
   ],
   "source": [
    "soup.find('div',class_='photo_tile _grid').find_all('img')[3]"
   ]
  },
  {
   "cell_type": "code",
   "execution_count": 6,
   "id": "893d01a1",
   "metadata": {},
   "outputs": [
    {
     "data": {
      "text/plain": [
       "<img alt=\"강아지 양치질 첫시기와 적응시키는 방법\" class=\"_image _listImage\" data-org-height=\"340\" data-org-width=\"340\" src=\"https://search.pstatic.net/common/?src=http%3A%2F%2Fblogfiles.naver.net%2FMjAyMjA4MTRfMTc0%2FMDAxNjYwNDc0MzcxNzA2.b0Psg-59OtKd48ygkoyaYHYVLl3gCznYrcE5zB1luegg.u-2yR-VFfrGBwOo_Eps9m2HipJL61eTBNoSOk496u-8g.JPEG.misshugo%2FKakaoTalk_20220814_192010992_05.jpg&amp;type=a340\" style=\"height: 218px; opacity: 1;\"/>"
      ]
     },
     "execution_count": 6,
     "metadata": {},
     "output_type": "execute_result"
    }
   ],
   "source": [
    "soup.find('div',class_='photo_tile _grid').find_all('img')[2]"
   ]
  },
  {
   "cell_type": "code",
   "execution_count": null,
   "id": "cee983de",
   "metadata": {},
   "outputs": [],
   "source": []
  }
 ],
 "metadata": {
  "kernelspec": {
   "display_name": "Python 3 (ipykernel)",
   "language": "python",
   "name": "python3"
  },
  "language_info": {
   "codemirror_mode": {
    "name": "ipython",
    "version": 3
   },
   "file_extension": ".py",
   "mimetype": "text/x-python",
   "name": "python",
   "nbconvert_exporter": "python",
   "pygments_lexer": "ipython3",
   "version": "3.9.12"
  }
 },
 "nbformat": 4,
 "nbformat_minor": 5
}
